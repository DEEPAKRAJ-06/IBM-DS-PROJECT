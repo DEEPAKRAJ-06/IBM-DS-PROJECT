{
 "cells": [
  {
   "cell_type": "markdown",
   "id": "b4bd68f3-55cf-41c6-9e20-2ca43b5ae46a",
   "metadata": {},
   "source": [
    "# Data Science Tools and Ecosystem\n"
   ]
  },
  {
   "cell_type": "markdown",
   "id": "df1dce13",
   "metadata": {},
   "source": [
    "In this notebook, Data Science Tools and Ecosystem are summarized.\n"
   ]
  },
  {
   "cell_type": "markdown",
   "id": "d93b4f45",
   "metadata": {},
   "source": [
    "**Objectives:**\n",
    "\n",
    "- List popular languages for Data Science.\n",
    "- List data science libraries\n",
    "- Create a markdown cell with a table of Data Science tools  "
   ]
  },
  {
   "cell_type": "markdown",
   "id": "52f80689",
   "metadata": {},
   "source": [
    "Some of the popular languages that Data Scientists use are:\n",
    "1. Python\n",
    "2. R\n",
    "3. SQL"
   ]
  },
  {
   "cell_type": "markdown",
   "id": "22fc3a9f",
   "metadata": {},
   "source": [
    "Some of the commonly used libraries used by Data Scientists include:\n",
    "1. Pandas\n",
    "2. NumPy\n",
    "3. SciPy\n",
    "4. Matplotlib"
   ]
  },
  {
   "cell_type": "markdown",
   "id": "59d25d72",
   "metadata": {},
   "source": [
    "Data Science Tools|\n",
    "------------------\n",
    " RStudio |\n",
    " Apache Spark| \n",
    " TensorFlow|\n",
    " Apache Hadoop|"
   ]
  },
  {
   "cell_type": "markdown",
   "id": "e8e3796f",
   "metadata": {},
   "source": [
    "### Below are a few examples of evaluating arithmetic expressions in Python."
   ]
  },
  {
   "cell_type": "code",
   "execution_count": 38,
   "id": "f3f51805",
   "metadata": {},
   "outputs": [
    {
     "data": {
      "text/plain": [
       "17"
      ]
     },
     "execution_count": 38,
     "metadata": {},
     "output_type": "execute_result"
    }
   ],
   "source": [
    "# This a simple arithmetic expression to mutiply then add integers.\n",
    "(3*4)+5"
   ]
  },
  {
   "cell_type": "code",
   "execution_count": 39,
   "id": "d95b4e6e",
   "metadata": {},
   "outputs": [
    {
     "name": "stdout",
     "output_type": "stream",
     "text": [
      "3.3333333333333335\n"
     ]
    }
   ],
   "source": [
    "# This will convert 200 minutes to hours by diving by 60.\n",
    "m=200\n",
    "h=m/60\n",
    "print(h)"
   ]
  },
  {
   "cell_type": "markdown",
   "id": "9668e8f6",
   "metadata": {},
   "source": [
    "## Author\n",
    "Deepak Raj"
   ]
  }
 ],
 "metadata": {
  "kernelspec": {
   "display_name": "Python 3 (ipykernel)",
   "language": "python",
   "name": "python3"
  },
  "language_info": {
   "codemirror_mode": {
    "name": "ipython",
    "version": 3
   },
   "file_extension": ".py",
   "mimetype": "text/x-python",
   "name": "python",
   "nbconvert_exporter": "python",
   "pygments_lexer": "ipython3",
   "version": "3.11.3"
  }
 },
 "nbformat": 4,
 "nbformat_minor": 5
}
